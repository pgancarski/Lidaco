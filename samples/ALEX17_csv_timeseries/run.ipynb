{
 "cells": [
  {
   "cell_type": "markdown",
   "metadata": {},
   "source": [
    "# ALEZ17 - Alaiz measuring campaign within the NEWA project\n",
    "This notebook serves as an example for using the CSV_timeseries reader.\n",
    "CSV_timeseries uses the pandas pd.read_csv function for loading data thus is compatible with any input that the function can read.\n",
    "\n",
    "CSV_timeseries supports the variables dictionarry and custom lambda funtions for data processing.\n"
   ]
  },
  {
   "cell_type": "markdown",
   "metadata": {},
   "source": [
    "## 1. Import dependencies"
   ]
  },
  {
   "cell_type": "code",
   "execution_count": 1,
   "metadata": {},
   "outputs": [],
   "source": [
    "import pandas as pd \n",
    "import sys\n",
    "import math\n",
    "\n",
    "sys.path.append(\"../..\") #path to the folder with lidaco\n",
    "from lidaco.core.Builder import Builder\n",
    "\n"
   ]
  },
  {
   "cell_type": "markdown",
   "metadata": {},
   "source": [
    "## 2. Convert the dataset"
   ]
  },
  {
   "cell_type": "markdown",
   "metadata": {},
   "source": [
    "### 2.1 Define lambda funtions for data processing\n",
    "The lambda funtions are aplied per row, so they are aware of all the variables in the row. They also have access to the section of the config defined for the variable they are supposed to generate. "
   ]
  },
  {
   "cell_type": "code",
   "execution_count": 2,
   "metadata": {},
   "outputs": [],
   "source": [
    "# return None value\n",
    "def get_None(input_data_row, var_config):\n",
    "    return None\n",
    "# apply rotation to the sonic data based on the boom_angle\n",
    "def rot(input_data_row, var_config):\n",
    "    name_from = var_config['name_from']\n",
    "    x_dim = y_dim = \"\"\n",
    "    if name_from[-1] == 'U':\n",
    "        x_dim = name_from\n",
    "        y_dim = name_from[:-1]+'V'\n",
    "        ret_u = True\n",
    "    elif name_from[-1] == 'V':\n",
    "        x_dim = name_from[:-1]+'U'\n",
    "        y_dim = name_from\n",
    "        ret_u = False\n",
    "    elif name_from[-1] == 'X':\n",
    "        x_dim = name_from\n",
    "        y_dim = name_from[:-1]+'Y'\n",
    "        ret_u = True\n",
    "    elif name_from[-1] == 'Y':\n",
    "        x_dim = name_from[:-1]+'X'\n",
    "        y_dim = name_from\n",
    "        ret_u = False\n",
    "\n",
    "    x = input_data_row[x_dim]\n",
    "    y = input_data_row[y_dim]\n",
    "    \n",
    "    angle_deg = var_config['boom_angle']\n",
    "    angle = angle_deg/180 * 3.1415926\n",
    "    \n",
    "    U = x*math.cos(angle) - y*math.sin(angle)\n",
    "    V = x*math.sin(angle) + y*math.cos(angle)\n",
    "    \n",
    "    if ret_u:\n",
    "        return U\n",
    "    else:\n",
    "        return V\n",
    "\n",
    "# reconstruct the timestamp in the correct format\n",
    "import datetime\n",
    "def fix_time(input_data_row):\n",
    "    #print(input_data_row[0,0])\n",
    "    time_str = str(input_data_row['Name'])\n",
    "    \n",
    "    ###  str: 201809300100,\n",
    "    ###       012345678901234567890\n",
    "    year    = int(time_str[0:4])\n",
    "    month   = int(time_str[4:6])\n",
    "    day     = int(time_str[6:8])\n",
    "    hours   = int(time_str[8:10])\n",
    "    minutes = int(input_data_row['MM'])\n",
    "    seconds = int(input_data_row['SS'])\n",
    "    m_sec   = (int(input_data_row['mS'])-32250)*1000\n",
    "    #print(year, month, day, hours, minutes,seconds, m_sec)\n",
    "    dt = datetime.datetime(year, month, day, hours, minutes,seconds, m_sec)\n",
    "\n",
    "    seconds_since = (dt - datetime.datetime(1970,1,1)).total_seconds()\n",
    "    return seconds_since"
   ]
  },
  {
   "cell_type": "markdown",
   "metadata": {},
   "source": [
    "### 2.2 Sensors and towers setup "
   ]
  },
  {
   "cell_type": "markdown",
   "metadata": {},
   "source": [
    "Data based on the experiment reeport https://doi.org/10.5281/zenodo.3187482"
   ]
  },
  {
   "cell_type": "code",
   "execution_count": 3,
   "metadata": {},
   "outputs": [],
   "source": [
    "# towers positions and id's\n",
    "# table 8 in the reeport\n",
    "d = {\n",
    "    'id':  [2, 3,6,7], \n",
    "    'lon': [-1.572331536305404,-1.5633646394797014,-1.5713723837817706,-1.577016143668346], \n",
    "    'lat': [42.71567597338727,42.74385844765364,42.75001917791451,42.72497372458333] }\n",
    "towers = pd.DataFrame(data=d)\n",
    "\n",
    "# sensors heights \n",
    "heights = [10,20,40,60,80]\n",
    "\n",
    "# sonics setup\n",
    "# table 7 in the reeport\n",
    "d =[[2,'Gill sonic',9.883,264.002,-0.408],\n",
    "    [2,'Gill sonic',20.151,260.674,-0.246],\n",
    "    [2,'Gill sonic',41.823,253.302,-1.089],\n",
    "    [2,'Gill sonic',61.161,254.514,-1.27],\n",
    "    [2,'Gill sonic',82.2,251.629,-1.255],\n",
    "    [3,'Gill sonic',9.609,302.065,1.167],\n",
    "    [3,'Gill sonic',20.209,298.249,0.615],\n",
    "    [3,'Gill sonic',40.952,292.062,-2.995],\n",
    "    [3,'Gill sonic',61.606,292.707,-1.945],\n",
    "    [3,'Gill sonic',82.215,293.16,-0.573],\n",
    "    [7,'Gill sonic',7.706,267.39,-0.143],\n",
    "    [7,'Gill sonic',17.882,266.636,-1.58],\n",
    "    [7,'Gill sonic',38.946,265.997,-0.564],\n",
    "    [7,'Gill sonic',58.778,263.56,-1.107],\n",
    "    [7,'Gill sonic',79.251,259.572,-1.782],\n",
    "    [6,'Metek sonic',9.603,264.924,0.469],\n",
    "    [6,'Metek sonic',20.12,261.603,-2.79],\n",
    "    [6,'Metek sonic',41.227,255.266,-1.51],\n",
    "    [6,'Metek sonic',60.595,251.351,-2.529]]\n",
    "sonics = pd.DataFrame(data=d, columns = ['Mast', 'Sensor', 'height', 'Orientation','Tilt'])\n",
    "sonics['height'] = sonics['height'].round(-1)"
   ]
  },
  {
   "cell_type": "markdown",
   "metadata": {},
   "source": [
    "### 2.3 Variables definitons\n",
    "Table with variables translation $(from, to, funtion_to_apply)$"
   ]
  },
  {
   "cell_type": "code",
   "execution_count": 4,
   "metadata": {},
   "outputs": [],
   "source": [
    "variables_translation = [\n",
    "    ('U', \"eastward_wind\", rot), #rotation here\n",
    "    ('V', \"northward_wind\", rot),# rotation here\n",
    "    ('W', \"upward_air_velocity\",None),\n",
    "    ('T', \"air_temperature\",None),# TODO celsius_to_kalvin),\n",
    "    ('st_code', \"st_code\",None),\n",
    "    ('status', \"status\",None),\n",
    "]\n",
    "# tower 6 is special\n",
    "t6_heights = [10,20,40,60]\n",
    "t6_variables_translation = [\n",
    "    ('SX', \"eastward_wind\", rot), #rotation here\n",
    "    ('SY', \"northward_wind\", rot),# rotation here\n",
    "    ('SZ', \"upward_air_velocity\",None),\n",
    "    ('St', \"air_temperature\",get_None),\n",
    "    ('St', \"st_code\",None),\n",
    "    ('status', \"status\",None),\n",
    "]  "
   ]
  },
  {
   "cell_type": "markdown",
   "metadata": {},
   "source": [
    "### 2.4 Generate the settings for the converter\n",
    "While it is both possible and encouraged to define the case setup using settings file, in this case the majority of the setup is code-generated. There are two reasons for that:\n",
    "- passing custom funtions for processing the data,\n",
    "- dealing with a large number of variables (close to a hundred in this case) which could be defined in a loop."
   ]
  },
  {
   "cell_type": "code",
   "execution_count": 5,
   "metadata": {},
   "outputs": [],
   "source": [
    "#base config stucture\n",
    "config = {\n",
    "    'parameters': {\n",
    "        'time_from':'TimeStamp',\n",
    "        'positions':[]\n",
    "    },\n",
    "}\n",
    "\n",
    "#loop through all the towers\n",
    "for _, tower in towers.iterrows(): \n",
    "    if tower[\"id\"] == 6: # tower 6 is special\n",
    "        variables = t6_variables_translation\n",
    "        hs = t6_heights\n",
    "    else:    \n",
    "        variables = variables_translation\n",
    "        hs = heights\n",
    "    #loop through heights\n",
    "    for height in hs:\n",
    "        #generate variables names for a turbine\n",
    "        variables_config = []\n",
    "        # loop through variables\n",
    "        for (variable_from, variable_to, f_apply) in variables:\n",
    "            # config of a single variable\n",
    "            variable_from = \"Twr\"+str(int(tower[\"id\"]))+\"_\"+str(height)+\"m_\"+variable_from\n",
    "            boom_angle = sonics[\n",
    "                    (sonics['Mast']==tower[\"id\"]) & \n",
    "                    (sonics['height']==height)]['Mast'].values[0]\n",
    "            variables_config.append( {\n",
    "                    'name_to': variable_to, \n",
    "                    'name_from': variable_from, \n",
    "                    'apply':f_apply,\n",
    "                    'boom_angle':boom_angle})\n",
    "            \n",
    "        #config for a turbine\n",
    "        tower_conf = {'type': 'mast', \n",
    "                        'id': str(tower['id']), \n",
    "                        'long_name': 'Twr' + str(int(tower['id'])), \n",
    "                        'latitude': tower['lat'], \n",
    "                        'longitude': tower['lon'], \n",
    "                        'altitude': height,\n",
    "                        'variables': variables_config\n",
    "                    }\n",
    "        config['parameters']['positions'].append(tower_conf)\n",
    "    "
   ]
  },
  {
   "cell_type": "markdown",
   "metadata": {},
   "source": [
    "Finally add a custom function to process time. "
   ]
  },
  {
   "cell_type": "code",
   "execution_count": 6,
   "metadata": {},
   "outputs": [],
   "source": [
    "config['parameters']['time_apply'] = fix_time"
   ]
  },
  {
   "cell_type": "markdown",
   "metadata": {},
   "source": [
    "## 3. Convert he data"
   ]
  },
  {
   "cell_type": "code",
   "execution_count": 7,
   "metadata": {},
   "outputs": [
    {
     "name": "stdout",
     "output_type": "stream",
     "text": [
      "|  Processing ALEX17_201808_20Hz_sample.csv ...\n",
      "|  Writing to output/ALEX17_201808_20Hz_sample.nc .\n",
      "WARNING: Unrecognised variable name status\n",
      "If using for the first time, then you should add the metadata of the variable to an appropriate .json file in the lidaco/variables folder.\n",
      "It is YOUR responsibility to do that.\n",
      "WARNING: Unrecognised variable name st_code\n",
      "If using for the first time, then you should add the metadata of the variable to an appropriate .json file in the lidaco/variables folder.\n",
      "It is YOUR responsibility to do that.\n"
     ]
    }
   ],
   "source": [
    "builder = Builder(config_file = r'Alaiz.yaml',config=config)\n",
    "builder.build()"
   ]
  },
  {
   "cell_type": "markdown",
   "metadata": {},
   "source": [
    "## 4. Using the generated dataset\n",
    "### 4.1 Load the file"
   ]
  },
  {
   "cell_type": "code",
   "execution_count": 8,
   "metadata": {},
   "outputs": [],
   "source": [
    "from netCDF4 import Dataset\n",
    "output_file = Dataset(\"./output/ALEX17_201808_20Hz_sample.nc\", \"r\", format=\"NETCDF4\")"
   ]
  },
  {
   "cell_type": "code",
   "execution_count": 9,
   "metadata": {},
   "outputs": [
    {
     "data": {
      "text/plain": [
       "<class 'netCDF4._netCDF4.Dataset'>\n",
       "root group (NETCDF4 data model, file format HDF5):\n",
       "    conventions: CENER\n",
       "    version: 1.0\n",
       "    title: \n",
       "    creator: \n",
       "    references: \n",
       "    site: Alaiz\n",
       "    general_comment: \n",
       "    institution: DTU,CENER\n",
       "    data_processing_history: \n",
       "    start_time: 2018-09-30 01:04:29\n",
       "    end_time: 2018-10-04 00:48:29\n",
       "    dimensions(sizes): time(576), position(19)\n",
       "    variables(dimensions): float64 \u001b[4mtime\u001b[0m(time), <class 'str'> \u001b[4mid\u001b[0m(position), <class 'str'> \u001b[4mtype\u001b[0m(position), <class 'str'> \u001b[4mlong_name\u001b[0m(position), float64 \u001b[4mlatitude\u001b[0m(position), float64 \u001b[4mlongitude\u001b[0m(position), float64 \u001b[4maltitude\u001b[0m(position), float64 \u001b[4mair_temperature\u001b[0m(position,time), float64 \u001b[4mupward_air_velocity\u001b[0m(position,time), float64 \u001b[4mnorthward_wind\u001b[0m(position,time), float64 \u001b[4mstatus\u001b[0m(position,time), float64 \u001b[4meastward_wind\u001b[0m(position,time), float64 \u001b[4mst_code\u001b[0m(position,time)\n",
       "    groups: "
      ]
     },
     "execution_count": 9,
     "metadata": {},
     "output_type": "execute_result"
    }
   ],
   "source": [
    "output_file"
   ]
  },
  {
   "cell_type": "markdown",
   "metadata": {},
   "source": [
    "### 4.2 Reading global attributes"
   ]
  },
  {
   "cell_type": "code",
   "execution_count": 10,
   "metadata": {},
   "outputs": [
    {
     "name": "stdout",
     "output_type": "stream",
     "text": [
      "conventions = CENER\n",
      "version = 1.0\n",
      "title = \n",
      "creator = \n",
      "references = \n",
      "site = Alaiz\n",
      "general_comment = \n",
      "institution = DTU,CENER\n",
      "data_processing_history = \n",
      "start_time = 2018-09-30 01:04:29\n",
      "end_time = 2018-10-04 00:48:29\n"
     ]
    }
   ],
   "source": [
    "for attr in output_file.ncattrs(): \n",
    "    print (attr, '=', getattr(output_file, attr)) "
   ]
  },
  {
   "cell_type": "code",
   "execution_count": 11,
   "metadata": {},
   "outputs": [
    {
     "data": {
      "text/plain": [
       "'2018-09-30 01:04:29'"
      ]
     },
     "execution_count": 11,
     "metadata": {},
     "output_type": "execute_result"
    }
   ],
   "source": [
    "getattr(output_file, 'start_time')"
   ]
  },
  {
   "cell_type": "markdown",
   "metadata": {},
   "source": [
    "### 4.3 Reading variable attributes"
   ]
  },
  {
   "cell_type": "code",
   "execution_count": 12,
   "metadata": {},
   "outputs": [
    {
     "data": {
      "text/plain": [
       "<class 'netCDF4._netCDF4.Variable'>\n",
       "float64 time(time)\n",
       "    units: seconds since 1970-01-01 00:00:00.00 UTC\n",
       "    long_name: time\n",
       "    comment: iec_61400-25 defines time as a complex type consisting of two integers SecondSinceEpoch and FractionOfSecond with the \"1970\" reference. For netCDF a single DOUBLE value with undefined reference is used. We use a mix of the two by using a single DOUBLE value with 1970 reference. NetCDF has a build in support for the metadata on the used reference date and calendar\n",
       "    calendar: gregorian\n",
       "unlimited dimensions: \n",
       "current shape = (576,)\n",
       "filling on, default _FillValue of 9.969209968386869e+36 used"
      ]
     },
     "execution_count": 12,
     "metadata": {},
     "output_type": "execute_result"
    }
   ],
   "source": [
    "output_file.variables['time']"
   ]
  },
  {
   "cell_type": "markdown",
   "metadata": {},
   "source": [
    "### 4.4 Reading position metadata\n",
    "$postion$ usally defines a turbine, or a specific height of a met mast. There can be many variables assigned to a specific postion."
   ]
  },
  {
   "cell_type": "code",
   "execution_count": 13,
   "metadata": {},
   "outputs": [
    {
     "name": "stdout",
     "output_type": "stream",
     "text": [
      "Type: mast\n",
      "Id: 3.0\n",
      "Long_name: Twr3\n",
      "Latitude: 42.74385844765364\n",
      "Longitude: -1.5633646394797014\n",
      "Altitude: 10.0\n"
     ]
    }
   ],
   "source": [
    "position = 5 ### internal netcdf id which can be ignored after the data is imported\n",
    "print(\"Type: \" + output_file.variables['type'][position])\n",
    "print(\"Id: \" + output_file.variables['id'][position])\n",
    "print(\"Long_name: \" + output_file.variables['long_name'][position])\n",
    "print(\"Latitude: \" + str(output_file.variables['latitude'][position]))\n",
    "print(\"Longitude: \" + str(output_file.variables['longitude'][position]))\n",
    "print(\"Altitude: \" + str(output_file.variables['altitude'][position]))"
   ]
  },
  {
   "cell_type": "markdown",
   "metadata": {},
   "source": [
    "### 4.5 Reading sensor data"
   ]
  },
  {
   "cell_type": "code",
   "execution_count": 14,
   "metadata": {},
   "outputs": [
    {
     "data": {
      "text/plain": [
       "array([16.4857, 16.4381, 16.5583, 16.7578, 16.881 , 16.3258, 15.8523,\n",
       "       15.5586, 15.8288, 15.9727, 16.1357, 16.2157, 16.3728, 16.2742,\n",
       "       15.9104, 14.8888, 14.616 , 15.438 , 14.956 , 14.3509, 14.4404,\n",
       "       14.6816, 14.7265, 13.4023, 13.5577, 14.4045, 13.676 , 13.3706,\n",
       "       13.9462, 13.4331, 13.0538, 12.8131, 12.6066, 12.437 , 12.4147,\n",
       "       12.601 , 12.0153, 12.4023, 12.657 , 11.7943, 11.6864, 11.8134,\n",
       "       11.6899, 11.6252, 11.6179, 11.1849, 11.5723, 11.8222, 11.8538,\n",
       "       12.0585, 12.3775, 12.9415, 13.1808, 13.4989, 14.2299, 14.6145,\n",
       "       15.1961, 15.7776, 16.2832, 17.014 , 17.4698, 17.9592, 18.3573,\n",
       "       18.6043, 19.1932, 19.3658, 19.629 , 19.7152, 19.879 , 20.17  ,\n",
       "       20.7239, 21.1598, 21.4201, 21.3525, 21.614 , 21.8497, 22.1283,\n",
       "       21.9926, 22.11  , 22.1579, 22.0876, 22.158 , 22.055 , 22.2324,\n",
       "       22.0454, 21.9571, 22.001 , 22.1824, 22.1238, 21.8109, 21.9597,\n",
       "       21.6625, 21.6963, 21.5037, 21.4051, 21.1181, 20.8422, 20.7787,\n",
       "       20.5441, 20.3499, 19.9322, 19.6835, 19.4913, 19.3174, 19.1545,\n",
       "       18.9832, 18.8239, 18.6064, 18.4077, 18.2441, 18.0424, 17.9357,\n",
       "       17.811 , 17.4712, 17.412 , 17.4019, 17.1782, 16.9749, 16.8766,\n",
       "       16.7302, 16.7088, 16.6357, 16.5405, 16.3849, 16.516 , 16.5249,\n",
       "       16.7036, 16.4724, 16.4425, 16.3233, 16.1633, 16.3813, 16.4141,\n",
       "       16.1897, 16.1189, 16.183 , 16.2314, 16.2351, 16.2552, 16.1682,\n",
       "       16.1798, 16.1273, 16.1276, 16.2068, 16.1896, 16.0368, 16.0301,\n",
       "       16.11  , 15.9838, 16.1652, 16.0917, 16.1299, 16.1051, 16.0483,\n",
       "       15.9639, 15.9745, 15.9388, 15.8918, 15.8893, 15.9228, 15.848 ,\n",
       "       15.8485, 15.8997, 15.9094, 15.8914, 15.8712, 15.8811, 15.9022,\n",
       "       15.9266, 15.8572, 15.7668, 15.7735, 15.7654, 15.6549, 15.6762,\n",
       "       15.6951, 15.6907, 15.6892, 15.6644, 15.6172, 15.5733, 15.5225,\n",
       "       15.4634, 15.5026, 15.3231, 15.2737, 15.2931, 15.3116, 15.3682,\n",
       "       15.4134, 15.4204, 15.4527, 15.7138, 15.8482, 15.8245, 15.7704,\n",
       "       15.6698, 15.8964, 16.1053, 16.2812, 16.2192, 16.1671, 16.1594,\n",
       "       16.2395, 15.9501, 16.0825, 16.2704, 16.3157, 16.0064, 16.251 ,\n",
       "       16.3512, 15.8798, 15.7574, 15.881 , 16.1647, 16.1081, 16.1213,\n",
       "       16.2136, 16.4467, 16.3605, 16.4207, 16.2692, 16.1406, 16.3067,\n",
       "       16.2218, 16.2577, 16.3542, 16.5506, 16.3114, 16.3947, 16.1935,\n",
       "       15.9589, 15.9211, 16.0413, 15.9682, 16.1461, 15.9623, 15.8192,\n",
       "       16.0317, 15.9338, 15.7021, 15.6938, 15.6583, 15.5507, 15.4642,\n",
       "       15.2524, 15.1351, 14.9614, 14.9094, 14.8199, 14.7089, 14.6745,\n",
       "       14.5946, 14.4718, 14.3892, 14.355 , 14.2994, 14.2262, 14.1382,\n",
       "       13.9804, 13.9236, 13.8869, 13.8371, 14.0838, 13.7669, 13.7536,\n",
       "       13.7115, 13.6095, 13.5208, 13.4848, 13.4646, 13.4406, 13.3944,\n",
       "       13.3482, 13.3046, 13.295 , 13.297 , 13.3043, 13.294 , 13.2943,\n",
       "       13.2773, 13.2508, 13.1836, 13.107 , 12.9764, 12.906 , 12.6811,\n",
       "       12.4684, 12.479 , 12.2447, 12.2524, 12.0246, 11.9124, 11.8086,\n",
       "       11.7836, 11.7969, 11.7523, 11.7682, 11.805 , 11.7906, 11.6507,\n",
       "       11.7787, 11.6302, 11.8881, 11.5493, 11.395 , 11.3148, 11.5579,\n",
       "       11.5681, 11.4852, 11.4508, 11.3682, 11.5097, 11.5886, 11.7433,\n",
       "       11.7437, 11.705 , 11.8617, 11.892 , 11.7555, 11.8074, 11.9279,\n",
       "       11.8271, 11.7168, 11.7965, 11.8802, 11.8848, 11.8081, 11.9464,\n",
       "       11.9981, 12.0783, 12.1918, 12.1831, 12.0116, 11.4621, 11.7789,\n",
       "       12.1637, 12.2457, 12.7916, 13.1994, 13.3926, 13.4461, 13.9117,\n",
       "       14.3132, 14.6394, 14.9479, 14.9884, 15.2088, 15.2307, 15.5738,\n",
       "       15.756 , 15.9141, 15.8951, 16.1093, 16.1233, 16.6479, 16.7719,\n",
       "       16.9033, 16.8706, 17.3617, 17.3863, 17.5581, 17.6609, 17.6535,\n",
       "       17.5613, 18.1209, 18.0235, 18.1463, 18.2116, 18.3943, 18.6326,\n",
       "       18.6546, 18.7968, 18.7064, 18.6915, 18.6549, 18.7466, 18.7003,\n",
       "       18.4717, 18.3059, 18.5308, 18.4082, 18.2727, 18.4549, 18.4919,\n",
       "       18.4109, 18.2324, 18.0511, 17.9625, 17.628 , 17.2599, 16.9318,\n",
       "       16.6266, 16.4038, 16.1471, 15.894 , 15.6556, 15.4886, 15.2672,\n",
       "       15.0858, 14.9768, 15.0409, 14.9305, 14.8466, 14.8259, 15.0161,\n",
       "       14.9669, 14.2974, 14.4165, 14.2892, 13.9622, 14.1772, 14.0927,\n",
       "       14.0578, 13.9677, 13.8477, 13.8403, 13.9184, 13.9069, 13.7391,\n",
       "       13.5539, 13.367 , 13.137 , 13.4071, 13.3683, 13.408 , 13.4585,\n",
       "       13.445 , 13.4302, 13.3062, 13.4135, 13.4144, 13.4761, 13.6355,\n",
       "       13.4127, 13.2302, 13.2658, 13.0538, 13.0156, 13.246 , 13.3308,\n",
       "       13.1035, 12.9401, 13.045 , 13.1829, 13.2913, 13.1986, 13.237 ,\n",
       "       13.4379, 13.5247, 13.4695, 13.472 , 13.6452, 13.9851, 13.9375,\n",
       "       13.9443, 13.4914, 13.8653, 14.1179, 14.388 , 14.0299, 13.6634,\n",
       "       13.8854, 13.9657, 14.1559, 14.4395, 14.0138, 13.8701, 13.9166,\n",
       "       13.9534, 14.1444, 14.0644, 14.3701, 13.92  , 13.9981, 13.8027,\n",
       "       14.0263, 14.4527, 14.6846, 15.208 , 15.5067, 15.9314, 16.3226,\n",
       "       16.7798, 17.9936, 18.7541, 19.2964, 19.6425, 20.2413, 20.6436,\n",
       "       20.7702, 21.2987, 21.6892, 21.6551, 22.3768, 22.6858, 22.9768,\n",
       "       23.5663, 24.1011, 24.3675, 24.4137, 24.7243, 24.7081, 24.6553,\n",
       "       24.6683, 24.8108, 24.9528, 25.406 , 26.1446, 26.327 , 25.9199,\n",
       "       25.9661, 25.4678, 25.5251, 25.7965, 26.134 , 26.1025, 25.8826,\n",
       "       25.6042, 25.3595, 25.1916, 25.0968, 24.7975, 24.5291, 24.2991,\n",
       "       23.9541, 23.8494, 23.4324, 23.3666, 23.154 , 22.8603, 22.49  ,\n",
       "       22.0071, 21.6637, 21.1568, 20.6555, 20.2728, 20.018 , 19.7483,\n",
       "       19.4751, 19.3922, 19.2777, 19.2117, 19.1729, 19.1097, 18.8712,\n",
       "       18.7822, 18.6131, 18.5115, 18.4383, 18.2831, 18.2991, 17.9426,\n",
       "       17.8502, 17.439 , 17.3374, 17.4934, 17.9438, 18.2181, 18.172 ,\n",
       "       18.0324, 18.1438, 18.17  , 17.958 , 17.7173, 17.1472, 17.0244,\n",
       "       16.6318, 16.0492, 16.3311, 15.9337, 15.9079, 15.9324, 15.8976,\n",
       "       16.0068, 16.0644])"
      ]
     },
     "execution_count": 14,
     "metadata": {},
     "output_type": "execute_result"
    }
   ],
   "source": [
    "output_file.variables['air_temperature'][position].data"
   ]
  },
  {
   "cell_type": "code",
   "execution_count": null,
   "metadata": {},
   "outputs": [],
   "source": []
  }
 ],
 "metadata": {
  "kernelspec": {
   "display_name": "Python 3",
   "language": "python",
   "name": "python3"
  },
  "language_info": {
   "codemirror_mode": {
    "name": "ipython",
    "version": 3
   },
   "file_extension": ".py",
   "mimetype": "text/x-python",
   "name": "python",
   "nbconvert_exporter": "python",
   "pygments_lexer": "ipython3",
   "version": "3.6.4"
  }
 },
 "nbformat": 4,
 "nbformat_minor": 2
}
